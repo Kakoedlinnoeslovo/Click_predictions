{
 "cells": [
  {
   "cell_type": "markdown",
   "metadata": {},
   "source": [
    "XGboost на dense без групповыхз фичей, без таймстемпов, 500 деревьев \n",
    "    \n",
    "kaggle 0.01559 0.01556 (baseline 0.01554)\n",
    "\n",
    "cv  0.014577580587445576 +- 5.6226181232644126e-05\n",
    "\n",
    "\n",
    "XGBoost на sparse, 500 деревьев переходит бейзлайн\n",
    "\n",
    "kaggle 0.01550 0.01547"
   ]
  },
  {
   "cell_type": "code",
   "execution_count": 2,
   "metadata": {
    "collapsed": true
   },
   "outputs": [],
   "source": [
    "import numpy as np\n",
    "from xgboost import XGBClassifier as xgb\n",
    "from tqdm import tqdm\n",
    "import os\n",
    "import xgboost\n",
    "from sklearn.metrics import log_loss"
   ]
  },
  {
   "cell_type": "code",
   "execution_count": 13,
   "metadata": {},
   "outputs": [],
   "source": [
    "def make_sub(pred, name_suffix='', sub_dir = 'submitions/'):\n",
    "    n = len(os.listdir(sub_dir))\n",
    "    f_name = sub_dir  + 'sub' + str(n) + '_' + name_suffix\n",
    "    print(f_name)\n",
    "    \n",
    "    f = open(f_name, 'w')\n",
    "    f.write('Id,Click' + '\\n')\n",
    "    for i, prob in tqdm(enumerate(pred)):\n",
    "        f.write(str(i + 1) + \",\" + str(prob) + '\\n')\n",
    "    f.close()"
   ]
  },
  {
   "cell_type": "code",
   "execution_count": 45,
   "metadata": {},
   "outputs": [],
   "source": [
    "y = np.load(open('train.y', 'rb'))[:, 0]"
   ]
  },
  {
   "cell_type": "code",
   "execution_count": 3,
   "metadata": {},
   "outputs": [
    {
     "data": {
      "text/plain": [
       "(29913451, 76302)"
      ]
     },
     "execution_count": 3,
     "metadata": {},
     "output_type": "execute_result"
    }
   ],
   "source": [
    "#Классы несбалансированны\n",
    "num1 = np.sum(y == 1)\n",
    "num0 = np.sum(y == 0)\n",
    "num0, num1"
   ]
  },
  {
   "cell_type": "code",
   "execution_count": 4,
   "metadata": {
    "collapsed": true
   },
   "outputs": [],
   "source": [
    "#nagative sampling\n",
    "sample_nums_1 = np.random.choice(np.where(y == 1)[0], size = num1)\n",
    "sample_nums_0 = np.random.choice(np.where(y == 0)[0], size = num1)\n",
    "sample_nums = np.concatenate([sample_nums_1, sample_nums_0])"
   ]
  },
  {
   "cell_type": "code",
   "execution_count": 44,
   "metadata": {},
   "outputs": [
    {
     "name": "stdout",
     "output_type": "stream",
     "text": [
      "CPU times: user 8.39 s, sys: 10.6 s, total: 19 s\n",
      "Wall time: 29 s\n"
     ]
    }
   ],
   "source": [
    "%%time\n",
    "X = np.load(open('train.x', 'rb'))"
   ]
  },
  {
   "cell_type": "code",
   "execution_count": 6,
   "metadata": {
    "collapsed": true
   },
   "outputs": [],
   "source": [
    "X = X[sample_nums]"
   ]
  },
  {
   "cell_type": "code",
   "execution_count": 7,
   "metadata": {},
   "outputs": [],
   "source": [
    "X.dump(open('train_neg_sample.x', 'wb'))"
   ]
  },
  {
   "cell_type": "code",
   "execution_count": 27,
   "metadata": {},
   "outputs": [],
   "source": [
    "y = y[sample_nums]\n",
    "y.dump(open('train_neg_sample.y', 'wb'))"
   ]
  },
  {
   "cell_type": "code",
   "execution_count": 15,
   "metadata": {
    "collapsed": true
   },
   "outputs": [],
   "source": [
    "model = xgb()"
   ]
  },
  {
   "cell_type": "code",
   "execution_count": 21,
   "metadata": {},
   "outputs": [
    {
     "data": {
      "text/plain": [
       "(152604, 14)"
      ]
     },
     "execution_count": 21,
     "metadata": {},
     "output_type": "execute_result"
    }
   ],
   "source": [
    "X.shape"
   ]
  },
  {
   "cell_type": "code",
   "execution_count": 22,
   "metadata": {
    "collapsed": true
   },
   "outputs": [],
   "source": [
    "keys = \"timestamp;label;C1;C2;C3;C4;C5;C6;C7;C8;C9;C10;CG1;CG2;CG3;l1;l2;C11;C12\".split(\";\")"
   ]
  },
  {
   "cell_type": "code",
   "execution_count": 29,
   "metadata": {},
   "outputs": [
    {
     "data": {
      "text/plain": [
       "XGBClassifier(base_score=0.5, colsample_bylevel=1, colsample_bytree=1,\n",
       "       gamma=0, learning_rate=0.1, max_delta_step=0, max_depth=3,\n",
       "       min_child_weight=1, missing=None, n_estimators=100, nthread=-1,\n",
       "       objective='binary:logistic', reg_alpha=0, reg_lambda=1,\n",
       "       scale_pos_weight=1, seed=0, silent=True, subsample=1)"
      ]
     },
     "execution_count": 29,
     "metadata": {},
     "output_type": "execute_result"
    }
   ],
   "source": [
    "model.fit(X, y)"
   ]
  },
  {
   "cell_type": "code",
   "execution_count": 30,
   "metadata": {
    "collapsed": true
   },
   "outputs": [],
   "source": [
    "p = model.predict_proba(X)"
   ]
  },
  {
   "cell_type": "code",
   "execution_count": 49,
   "metadata": {},
   "outputs": [
    {
     "name": "stderr",
     "output_type": "stream",
     "text": [
      "100%|██████████| 5/5 [00:11<00:00,  2.36s/it]\n"
     ]
    }
   ],
   "source": [
    "#make crossval set\n",
    "cv_size = 0.05\n",
    "cvdir = 'crossval_set/'\n",
    "n_folds = 5\n",
    "\n",
    "for i in tqdm(range(n_folds)):\n",
    "    sample_nums_1 = np.random.choice(np.where(y == 1)[0], size = int(num1 * cv_size))\n",
    "    sample_nums_0 = np.random.choice(np.where(y == 0)[0], size = int(num0 * cv_size))\n",
    "    sample_nums = np.concatenate([sample_nums_1, sample_nums_0])\n",
    "\n",
    "    X[sample_nums].dump(open(cvdir + str(i) + '.x', 'wb'))\n",
    "    y[sample_nums].dump(open( cvdir + str(i) + '.y', 'wb'))"
   ]
  },
  {
   "cell_type": "code",
   "execution_count": 118,
   "metadata": {},
   "outputs": [],
   "source": [
    "X =np.load('./train_neg_sample.x')\n",
    "y =np.load('./train_neg_sample.y')"
   ]
  },
  {
   "cell_type": "code",
   "execution_count": 61,
   "metadata": {},
   "outputs": [
    {
     "data": {
      "text/plain": [
       "2"
      ]
     },
     "execution_count": 61,
     "metadata": {},
     "output_type": "execute_result"
    }
   ],
   "source": [
    "pred.ndim"
   ]
  },
  {
   "cell_type": "code",
   "execution_count": 14,
   "metadata": {},
   "outputs": [],
   "source": [
    "def prob_shift(pred,num0, num1):\n",
    "    r_factor = num1 / num0\n",
    "    if pred.ndim == 2:\n",
    "        prob_sampled = pred[:, 1]\n",
    "    else:\n",
    "        prob_sampled = pred\n",
    "    prob = prob_sampled * r_factor / (1 + (r_factor - 1) * prob_sampled)\n",
    "    return prob"
   ]
  },
  {
   "cell_type": "code",
   "execution_count": 71,
   "metadata": {
    "collapsed": true
   },
   "outputs": [],
   "source": [
    "def cross_val(model, cvdir ='crossval_set/'):\n",
    "    n_folds = 5\n",
    "    \n",
    "    losslist = []\n",
    "    for i in tqdm(range(n_folds)):\n",
    "        X = np.load(open(cvdir + str(i) + '.x', 'rb'))\n",
    "        y = np.load(open(cvdir + str(i) + '.y', 'rb'))\n",
    "        pred = model.predict_proba(X)\n",
    "        losslist.append(log_loss(y, prob_shift(pred, num0, num1)))\n",
    "    losslist = np.array(losslist)\n",
    "    return  np.mean(losslist), np.std(losslist)"
   ]
  },
  {
   "cell_type": "code",
   "execution_count": 73,
   "metadata": {},
   "outputs": [
    {
     "name": "stderr",
     "output_type": "stream",
     "text": [
      "100%|██████████| 5/5 [00:12<00:00,  2.47s/it]\n"
     ]
    },
    {
     "data": {
      "text/plain": [
       "(0.015187734941411599, 6.0126294650011109e-05)"
      ]
     },
     "execution_count": 73,
     "metadata": {},
     "output_type": "execute_result"
    }
   ],
   "source": [
    "cross_val(model)"
   ]
  },
  {
   "cell_type": "code",
   "execution_count": 74,
   "metadata": {
    "collapsed": true
   },
   "outputs": [],
   "source": [
    "X_test = np.load(open('test.x', 'rb'))"
   ]
  },
  {
   "cell_type": "code",
   "execution_count": 80,
   "metadata": {},
   "outputs": [
    {
     "name": "stdout",
     "output_type": "stream",
     "text": [
      "CPU times: user 2min 28s, sys: 10 s, total: 2min 39s\n",
      "Wall time: 19.8 s\n"
     ]
    }
   ],
   "source": [
    "%%time\n",
    "pred = model.predict_proba(X_test)"
   ]
  },
  {
   "cell_type": "code",
   "execution_count": 84,
   "metadata": {},
   "outputs": [],
   "source": [
    "pred = prob_shift(pred, num0, num1)"
   ]
  },
  {
   "cell_type": "code",
   "execution_count": 89,
   "metadata": {
    "collapsed": true
   },
   "outputs": [],
   "source": [
    "make_sub(pred)"
   ]
  },
  {
   "cell_type": "markdown",
   "metadata": {},
   "source": [
    "kaggle 0.01599 0.01595\n",
    "\n",
    "cv     0.015187734941411599 +- 6.0126294650011109e-05 "
   ]
  },
  {
   "cell_type": "code",
   "execution_count": 107,
   "metadata": {
    "collapsed": true
   },
   "outputs": [],
   "source": [
    "model = xgb(max_depth=5, n_estimators=500)"
   ]
  },
  {
   "cell_type": "code",
   "execution_count": 108,
   "metadata": {},
   "outputs": [
    {
     "name": "stdout",
     "output_type": "stream",
     "text": [
      "CPU times: user 29min 3s, sys: 5.06 s, total: 29min 8s\n",
      "Wall time: 1min 59s\n"
     ]
    },
    {
     "data": {
      "text/plain": [
       "XGBClassifier(base_score=0.5, colsample_bylevel=1, colsample_bytree=1,\n",
       "       gamma=0, learning_rate=0.1, max_delta_step=0, max_depth=5,\n",
       "       min_child_weight=1, missing=None, n_estimators=500, nthread=-1,\n",
       "       objective='binary:logistic', reg_alpha=0, reg_lambda=1,\n",
       "       scale_pos_weight=1, seed=0, silent=True, subsample=1)"
      ]
     },
     "execution_count": 108,
     "metadata": {},
     "output_type": "execute_result"
    }
   ],
   "source": [
    "%%time\n",
    "model.fit(X, y)"
   ]
  },
  {
   "cell_type": "code",
   "execution_count": 132,
   "metadata": {},
   "outputs": [
    {
     "name": "stderr",
     "output_type": "stream",
     "text": [
      "100%|██████████| 5/5 [00:36<00:00,  7.40s/it]\n"
     ]
    },
    {
     "data": {
      "text/plain": [
       "(0.014577580587445576, 5.6226181232644126e-05)"
      ]
     },
     "execution_count": 132,
     "metadata": {},
     "output_type": "execute_result"
    }
   ],
   "source": [
    "cross_val(model)"
   ]
  },
  {
   "cell_type": "code",
   "execution_count": 137,
   "metadata": {},
   "outputs": [
    {
     "name": "stdout",
     "output_type": "stream",
     "text": [
      "CPU times: user 15min 7s, sys: 12 s, total: 15min 19s\n",
      "Wall time: 59.3 s\n"
     ]
    }
   ],
   "source": [
    "%%time\n",
    "pred = model.predict_proba(X_test)"
   ]
  },
  {
   "cell_type": "code",
   "execution_count": 138,
   "metadata": {
    "collapsed": true
   },
   "outputs": [],
   "source": [
    "pred = prob_shift(pred, num0, num1)"
   ]
  },
  {
   "cell_type": "code",
   "execution_count": 139,
   "metadata": {},
   "outputs": [
    {
     "name": "stderr",
     "output_type": "stream",
     "text": [
      "20317220it [00:56, 358522.02it/s]\n"
     ]
    }
   ],
   "source": [
    "make_sub(pred, 'xgboost_n500_d5')"
   ]
  },
  {
   "cell_type": "markdown",
   "metadata": {},
   "source": [
    "kaggle 0.01559 0.01556\n",
    "\n",
    "cv  0.014577580587445576 +- 5.6226181232644126e-05"
   ]
  },
  {
   "cell_type": "markdown",
   "metadata": {},
   "source": [
    "\n",
    "\n",
    "случайно удалил max_depth=6 n_estimators=1000 -- переучились\n",
    "\n",
    "kaggle 0.01569 0.01566\n",
    "\n",
    "cv 0.014348310448679059 +- 5.2657651726660568e-05"
   ]
  },
  {
   "cell_type": "code",
   "execution_count": 148,
   "metadata": {
    "collapsed": true
   },
   "outputs": [],
   "source": [
    "model = xgb(max_depth=6, n_estimators=1000, learning_rate=0.01)"
   ]
  },
  {
   "cell_type": "code",
   "execution_count": 149,
   "metadata": {},
   "outputs": [
    {
     "name": "stdout",
     "output_type": "stream",
     "text": [
      "CPU times: user 1h 18min 43s, sys: 10.7 s, total: 1h 18min 54s\n",
      "Wall time: 4min 38s\n"
     ]
    },
    {
     "data": {
      "text/plain": [
       "XGBClassifier(base_score=0.5, colsample_bylevel=1, colsample_bytree=1,\n",
       "       gamma=0, learning_rate=0.01, max_delta_step=0, max_depth=6,\n",
       "       min_child_weight=1, missing=None, n_estimators=1000, nthread=-1,\n",
       "       objective='binary:logistic', reg_alpha=0, reg_lambda=1,\n",
       "       scale_pos_weight=1, seed=0, silent=True, subsample=1)"
      ]
     },
     "execution_count": 149,
     "metadata": {},
     "output_type": "execute_result"
    }
   ],
   "source": [
    "%%time\n",
    "model.fit(X, y)"
   ]
  },
  {
   "cell_type": "code",
   "execution_count": 150,
   "metadata": {},
   "outputs": [
    {
     "name": "stderr",
     "output_type": "stream",
     "text": [
      "100%|██████████| 5/5 [00:56<00:00, 11.35s/it]\n"
     ]
    },
    {
     "data": {
      "text/plain": [
       "(0.014800733577611202, 5.8791752900808735e-05)"
      ]
     },
     "execution_count": 150,
     "metadata": {},
     "output_type": "execute_result"
    }
   ],
   "source": [
    "cross_val(model)"
   ]
  },
  {
   "cell_type": "code",
   "execution_count": 151,
   "metadata": {},
   "outputs": [
    {
     "name": "stdout",
     "output_type": "stream",
     "text": [
      "CPU times: user 34min 26s, sys: 14.4 s, total: 34min 40s\n",
      "Wall time: 2min 22s\n"
     ]
    }
   ],
   "source": [
    "%%time\n",
    "pred = model.predict_proba(X_test)"
   ]
  },
  {
   "cell_type": "code",
   "execution_count": 152,
   "metadata": {
    "scrolled": true
   },
   "outputs": [
    {
     "name": "stderr",
     "output_type": "stream",
     "text": [
      "38238it [00:00, 382378.54it/s]"
     ]
    },
    {
     "name": "stdout",
     "output_type": "stream",
     "text": [
      "submitions/sub4_xgboost_n1000_d6_lr0.01\n"
     ]
    },
    {
     "name": "stderr",
     "output_type": "stream",
     "text": [
      "20317220it [00:53, 378303.81it/s]\n"
     ]
    }
   ],
   "source": [
    "make_sub(prob_shift(pred, num0, num1), 'xgboost_n1000_d6_lr0.01')"
   ]
  },
  {
   "cell_type": "markdown",
   "metadata": {},
   "source": [
    "Сделаем sparse"
   ]
  },
  {
   "cell_type": "code",
   "execution_count": 255,
   "metadata": {
    "collapsed": true
   },
   "outputs": [],
   "source": [
    "categorical = {0,1,2,3,4,5,6,7,8,9,12, 13}\n",
    "continual = {10, 11}\n",
    "feature_dict = dict()"
   ]
  },
  {
   "cell_type": "code",
   "execution_count": 256,
   "metadata": {},
   "outputs": [
    {
     "name": "stderr",
     "output_type": "stream",
     "text": [
      "100%|██████████| 14/14 [00:00<00:00, 48.82it/s]\n"
     ]
    }
   ],
   "source": [
    "c = sum([len(feature_dict[x]) for x in feature_dict if x in categorical])\n",
    "for i in tqdm(range(X.shape[1])):\n",
    "    if i in categorical:\n",
    "        if i not in feature_dict:\n",
    "            feature_dict[i] = {}\n",
    "        for x in np.unique(X[:, i]):\n",
    "            if x not in feature_dict[i]:\n",
    "                    feature_dict[i][int(x)] = str(c) + ':1 '\n",
    "                    c += 1\n",
    "    if i in continual:\n",
    "        if i not in feature_dict: \n",
    "            feature_dict[i] = c\n",
    "            c += 1"
   ]
  },
  {
   "cell_type": "code",
   "execution_count": 258,
   "metadata": {},
   "outputs": [
    {
     "data": {
      "text/plain": [
       "138660"
      ]
     },
     "execution_count": 258,
     "metadata": {},
     "output_type": "execute_result"
    }
   ],
   "source": [
    "feature_dict[10]"
   ]
  },
  {
   "cell_type": "code",
   "execution_count": 266,
   "metadata": {},
   "outputs": [],
   "source": [
    "def make_sparse_svm(X, y, outfile = 'neg_sample.svm'):\n",
    "    fsvm = open(outfile, 'w')\n",
    "    for i in tqdm(range(y.shape[0])):\n",
    "        line = str(y[i]) + ' '\n",
    "        for j in range(X.shape[1]):\n",
    "            x_val = X[i,j]\n",
    "            if j in categorical:\n",
    "                if x_val in feature_dict[j]:\n",
    "                    line += feature_dict[j][x_val]\n",
    "            if j in continual:\n",
    "                line += str(feature_dict[j]) + ':' + str(x_val) + ' '\n",
    "        fsvm.write(line + '\\n')\n",
    "    fsvm.close()"
   ]
  },
  {
   "cell_type": "code",
   "execution_count": 270,
   "metadata": {},
   "outputs": [
    {
     "name": "stderr",
     "output_type": "stream",
     "text": [
      "100%|██████████| 20317220/20317220 [07:09<00:00, 47331.44it/s]\n"
     ]
    }
   ],
   "source": [
    "make_sparse_svm(X_test, np.zeros(X_test.shape[0]), 'test.svm')"
   ]
  },
  {
   "cell_type": "code",
   "execution_count": 3,
   "metadata": {},
   "outputs": [],
   "source": [
    "train = xgboost.DMatrix('neg_sample.svm')"
   ]
  },
  {
   "cell_type": "code",
   "execution_count": 25,
   "metadata": {},
   "outputs": [
    {
     "name": "stdout",
     "output_type": "stream",
     "text": [
      "CPU times: user 35min 59s, sys: 6.53 s, total: 36min 6s\n",
      "Wall time: 3min\n"
     ]
    }
   ],
   "source": [
    "%%time\n",
    "param = {'max_depth':5, 'objective':'binary:logistic' }\n",
    "bst = xgboost.train(param, train, 700)"
   ]
  },
  {
   "cell_type": "code",
   "execution_count": 26,
   "metadata": {},
   "outputs": [
    {
     "name": "stdout",
     "output_type": "stream",
     "text": [
      "CPU times: user 13.8 s, sys: 6.66 s, total: 20.5 s\n",
      "Wall time: 28.6 s\n"
     ]
    }
   ],
   "source": [
    "%%time\n",
    "test = xgboost.DMatrix('test.svm')"
   ]
  },
  {
   "cell_type": "code",
   "execution_count": 27,
   "metadata": {},
   "outputs": [
    {
     "name": "stdout",
     "output_type": "stream",
     "text": [
      "CPU times: user 13min 24s, sys: 3.33 s, total: 13min 28s\n",
      "Wall time: 47.6 s\n"
     ]
    }
   ],
   "source": [
    "%%time\n",
    "pred = bst.predict(test)"
   ]
  },
  {
   "cell_type": "code",
   "execution_count": 28,
   "metadata": {},
   "outputs": [],
   "source": [
    "pred = prob_shift(pred, num0, num1)"
   ]
  },
  {
   "cell_type": "code",
   "execution_count": 29,
   "metadata": {},
   "outputs": [
    {
     "name": "stderr",
     "output_type": "stream",
     "text": [
      "\r",
      "0it [00:00, ?it/s]"
     ]
    },
    {
     "name": "stdout",
     "output_type": "stream",
     "text": [
      "submitions/sub7_xgboost_sparse_n500_d5\n"
     ]
    },
    {
     "name": "stderr",
     "output_type": "stream",
     "text": [
      "20317220it [00:50, 404049.32it/s]\n"
     ]
    }
   ],
   "source": [
    "make_sub(pred, 'xgboost_sparse_n500_d5')"
   ]
  },
  {
   "cell_type": "code",
   "execution_count": 32,
   "metadata": {},
   "outputs": [
    {
     "name": "stdout",
     "output_type": "stream",
     "text": [
      "0.01547\r\n"
     ]
    }
   ],
   "source": [
    "!kg submit submitions/sub7_xgboost_sparse_n500_d5 -u denbibik -p  -c online-advertising-challenge-fall-2017"
   ]
  },
  {
   "cell_type": "code",
   "execution_count": null,
   "metadata": {
    "collapsed": true
   },
   "outputs": [],
   "source": []
  }
 ],
 "metadata": {
  "anaconda-cloud": {},
  "kernelspec": {
   "display_name": "Python 3",
   "language": "python",
   "name": "python3"
  },
  "language_info": {
   "codemirror_mode": {
    "name": "ipython",
    "version": 3
   },
   "file_extension": ".py",
   "mimetype": "text/x-python",
   "name": "python",
   "nbconvert_exporter": "python",
   "pygments_lexer": "ipython3",
   "version": "3.6.5"
  }
 },
 "nbformat": 4,
 "nbformat_minor": 1
}
